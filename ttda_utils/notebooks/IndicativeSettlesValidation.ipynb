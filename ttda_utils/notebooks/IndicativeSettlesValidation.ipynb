{
 "cells": [
  {
   "cell_type": "code",
   "execution_count": 25,
   "metadata": {
    "collapsed": true,
    "pycharm": {
     "is_executing": false
    }
   },
   "outputs": [],
   "source": [
    "import os\n",
    "import pandas as pd\n",
    "# imports from other Mosaic modules\n",
    "from mosaic_sql.crate import EngineInstance, get_engine"
   ]
  },
  {
   "cell_type": "code",
   "execution_count": 26,
   "outputs": [],
   "source": [
    "os.environ['CRATE_HOST'] = 'ttda.cratedb-dev-cluster.mosaic.hartreepartners.com:4200'\n",
    "engine = get_engine(EngineInstance.TTDA, timeout=20, debug=False)"
   ],
   "metadata": {
    "collapsed": false,
    "pycharm": {
     "name": "#%%\n",
     "is_executing": false
    }
   }
  },
  {
   "cell_type": "code",
   "execution_count": 27,
   "outputs": [],
   "source": [
    "date = '2021-08-12'\n",
    "indicative_settles_sql = f\"\"\"\n",
    "    select * \n",
    "     from settles.values_2\n",
    "    where source='TT'\n",
    "    and label='Settlement-Indicative'\n",
    "    and field='Price'\n",
    "    and date='{date}'\n",
    "\"\"\"\n",
    "\n",
    "settles_sql = f\"\"\"\n",
    "    select *\n",
    "    from settles.values_2\n",
    "    where source='TT'\n",
    "    and label='Settlement'\n",
    "    and field='Price'\n",
    "    and date='{date}'\n",
    "\"\"\"\n"
   ],
   "metadata": {
    "collapsed": false,
    "pycharm": {
     "name": "#%%\n",
     "is_executing": false
    }
   }
  },
  {
   "cell_type": "code",
   "execution_count": 28,
   "outputs": [],
   "source": [
    "idf = pd.read_sql(indicative_settles_sql, con=engine)\n",
    "idf['i_ts'] = pd.to_datetime(idf['epoch_time'], unit='s')\n",
    "idf['indicative_price'] = idf['value']\n",
    "\n",
    "idf.drop(columns=['value','epoch_time','label','properties'], inplace=True)\n",
    " \n",
    "sdf = pd.read_sql(settles_sql, con=engine)\n",
    "sdf['s_ts'] = pd.to_datetime(sdf['epoch_time'], unit='s')\n",
    "sdf['settle_price'] = sdf['value']\n",
    "sdf.drop(columns=['value','epoch_time','label','properties'], inplace=True)\n"
   ],
   "metadata": {
    "collapsed": false,
    "pycharm": {
     "name": "#%%\n",
     "is_executing": false
    }
   }
  },
  {
   "cell_type": "code",
   "execution_count": 29,
   "outputs": [],
   "source": [
    "merged_df = pd.merge(idf, sdf, how=\"outer\", on=['instrument_key','exchange','date','source','field'], suffixes=(\"_i\",\"_s\"), indicator=True)\n",
    "# merged_df.drop(columns=['date_s',],inplace=True)"
   ],
   "metadata": {
    "collapsed": false,
    "pycharm": {
     "name": "#%%\n",
     "is_executing": false
    }
   }
  },
  {
   "cell_type": "code",
   "execution_count": 29,
   "outputs": [],
   "source": [],
   "metadata": {
    "collapsed": false,
    "pycharm": {
     "name": "#%%\n",
     "is_executing": false
    }
   }
  },
  {
   "cell_type": "code",
   "execution_count": 30,
   "outputs": [],
   "source": [
    "merged_df.to_csv(f'c:\\\\temp\\\\is_{date}.csv', index=False)\n",
    "\n",
    "\n"
   ],
   "metadata": {
    "collapsed": false,
    "pycharm": {
     "name": "#%%\n",
     "is_executing": false
    }
   }
  }
 ],
 "metadata": {
  "kernelspec": {
   "display_name": "Python 3",
   "language": "python",
   "name": "python3"
  },
  "language_info": {
   "codemirror_mode": {
    "name": "ipython",
    "version": 2
   },
   "file_extension": ".py",
   "mimetype": "text/x-python",
   "name": "python",
   "nbconvert_exporter": "python",
   "pygments_lexer": "ipython2",
   "version": "2.7.6"
  },
  "pycharm": {
   "stem_cell": {
    "cell_type": "raw",
    "source": [],
    "metadata": {
     "collapsed": false
    }
   }
  }
 },
 "nbformat": 4,
 "nbformat_minor": 0
}