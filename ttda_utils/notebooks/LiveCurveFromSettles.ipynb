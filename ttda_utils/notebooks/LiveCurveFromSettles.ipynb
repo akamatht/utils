{
 "cells": [
  {
   "cell_type": "code",
   "execution_count": 28,
   "outputs": [],
   "source": [
    "import requests\n",
    "import os\n",
    "import pandas as pd\n",
    "import json"
   ],
   "metadata": {
    "collapsed": false,
    "pycharm": {
     "name": "#%%\n",
     "is_executing": false
    }
   }
  },
  {
   "cell_type": "code",
   "execution_count": 29,
   "outputs": [],
   "source": [
    "DEV = True\n",
    "\n",
    "if_dev = '.dev' if DEV else ''\n",
    "\n",
    "\n",
    "settles_base_url = f'http://settles-api{if_dev}.mosaic.hartreepartners.com/settles/api/v1/'\n",
    "tc_base_url = f'http://trader-curves-api{if_dev}.mosaic.hartreepartners.com/trader-curves/api/v1/'\n",
    "# settles_base_url = f'http://localhost:8080/settles/api/v1/'"
   ],
   "metadata": {
    "collapsed": false,
    "pycharm": {
     "name": "#%%\n",
     "is_executing": false
    }
   }
  },
  {
   "cell_type": "code",
   "execution_count": 30,
   "outputs": [
    {
     "name": "stdout",
     "text": [
      "http://localhost:8080/settles/api/v1/getEtrmCurveEval/TC2_USDMT/2021-07-15?eval_type=Outright\n",
      "{'symbol': 'TC2_USDMT', 'source': 'hartree', 'stamp': '2021-07-16', 'definition': {'type': 'Outright', 'timing_factor': 1, 'marks': [14.7481, 14.836, 15.389, 15.664, 15.909, 16.296, 17.469, 17.469, 17.469, 16.718, 16.718, 16.718, 17.043, 17.043, 17.043, 19.426, 19.426, 19.426], 'contracts': ['202107', '202108', '202109', '202110', '202111', '202112', '202201', '202202', '202203', '202204', '202205', '202206', '202207', '202208', '202209', '202210', '202211', '202212']}}\n",
      "http://localhost:8080/settles/api/v1/getEtrmCurveEval/TC5_USDMT/2021-07-15?eval_type=Outright\n",
      "{'symbol': 'TC5_USDMT', 'source': 'hartree', 'stamp': '2021-07-16', 'definition': {'type': 'Outright', 'timing_factor': 1, 'marks': [15.9805, 21.481, 22.509, 23.215, 23.507, 24.167, 25.425, 25.425, 25.425, 24.504, 24.504, 24.504, 25.586, 25.586, 25.586, 27.453, 27.453, 27.453], 'contracts': ['202107', '202108', '202109', '202110', '202111', '202112', '202201', '202202', '202203', '202204', '202205', '202206', '202207', '202208', '202209', '202210', '202211', '202212']}}\n",
      "http://localhost:8080/settles/api/v1/getEtrmCurveEval/TC6_USDMT/2021-07-15?eval_type=Outright\n",
      "{'symbol': 'TC6_USDMT', 'source': 'hartree', 'stamp': '2021-07-16', 'definition': {'type': 'Outright', 'timing_factor': 1, 'marks': [8.0237, 8.143, 8.464, 8.906, 9.707, 10.678, 10.11, 10.11, 10.11, 9.517, 9.517, 9.517, 9.11, 9.11, 9.11, 10.803, 10.803, 10.803], 'contracts': ['202107', '202108', '202109', '202110', '202111', '202112', '202201', '202202', '202203', '202204', '202205', '202206', '202207', '202208', '202209', '202210', '202211', '202212']}}\n",
      "http://localhost:8080/settles/api/v1/getEtrmCurveEval/TC12_USDMT/2021-07-15?eval_type=Outright\n",
      "{'symbol': 'TC12_USDMT', 'source': 'hartree', 'stamp': '2021-07-16', 'definition': {'type': 'Outright', 'timing_factor': 1, 'marks': [19.1791, 20.173, 21.664, 22.639, 23.516, 24.392, 24.959, 24.959, 24.959, 23.685, 23.685, 23.685, 24.474, 24.474, 24.474, 26.498, 26.498, 26.498], 'contracts': ['202107', '202108', '202109', '202110', '202111', '202112', '202201', '202202', '202203', '202204', '202205', '202206', '202207', '202208', '202209', '202210', '202211', '202212']}}\n",
      "http://localhost:8080/settles/api/v1/getEtrmCurveEval/TC14_USDMT/2021-07-15?eval_type=Outright\n",
      "{'symbol': 'TC14_USDMT', 'source': 'hartree', 'stamp': '2021-07-16', 'definition': {'type': 'Outright', 'timing_factor': 1, 'marks': [13.3058, 14.305, 14.508, 15.916, 17.494, 19.387, 18.331, 18.331, 18.331, 17.364, 17.364, 17.364, 17.691, 17.691, 17.691, 19.562, 19.562, 19.562], 'contracts': ['202107', '202108', '202109', '202110', '202111', '202112', '202201', '202202', '202203', '202204', '202205', '202206', '202207', '202208', '202209', '202210', '202211', '202212']}}\n",
      "http://localhost:8080/settles/api/v1/getEtrmCurveEval/TD3_USDMT/2021-07-15?eval_type=Outright\n",
      "{'symbol': 'TD3_USDMT', 'source': 'hartree', 'stamp': '2021-07-16', 'definition': {'type': 'Outright', 'timing_factor': 1, 'marks': [5.8651, 6.047, 6.693, 7.358, 7.865, 8.498, 8.925, 8.925, 8.925, 8.544, 8.544, 8.544, 8.558, 8.558, 8.558, 9.773, 9.773, 9.773, 10.467, 10.467, 10.467, 10.467, 10.467, 10.467, 10.467, 10.467, 10.467, 10.467, 10.467, 10.467], 'contracts': ['202107', '202108', '202109', '202110', '202111', '202112', '202201', '202202', '202203', '202204', '202205', '202206', '202207', '202208', '202209', '202210', '202211', '202212', '202301', '202302', '202303', '202304', '202305', '202306', '202307', '202308', '202309', '202310', '202311', '202312']}}\n",
      "http://localhost:8080/settles/api/v1/getEtrmCurveEval/TD7_USDMT/2021-07-15?eval_type=Outright\n",
      "{'symbol': 'TD7_USDMT', 'source': 'hartree', 'stamp': '2021-07-16', 'definition': {'type': 'Outright', 'timing_factor': 1, 'marks': [5.548, 5.448, 5.547, 5.797, 6.099, 6.938, 6.599, 6.599, 6.599, 6.267, 6.267, 6.267, 6.231, 6.231, 6.231, 7.347, 7.347, 7.347], 'contracts': ['202107', '202108', '202109', '202110', '202111', '202112', '202201', '202202', '202203', '202204', '202205', '202206', '202207', '202208', '202209', '202210', '202211', '202212']}}\n",
      "http://localhost:8080/settles/api/v1/getEtrmCurveEval/TD20_USDMT/2021-07-15?eval_type=Outright\n",
      "{'symbol': 'TD20_USDMT', 'source': 'hartree', 'stamp': '2021-07-16', 'definition': {'type': 'Outright', 'timing_factor': 1, 'marks': [7.4639, 7.522, 7.741, 8.301, 8.999, 9.87, 9.764, 9.764, 9.764, 9.299, 9.299, 9.299, 9.265, 9.265, 9.265, 10.048, 10.048, 10.048], 'contracts': ['202107', '202108', '202109', '202110', '202111', '202112', '202201', '202202', '202203', '202204', '202205', '202206', '202207', '202208', '202209', '202210', '202211', '202212']}}\n",
      "http://localhost:8080/settles/api/v1/getEtrmCurveEval/TD22_USDMT/2021-07-15?eval_type=Outright\n",
      "{'symbol': 'TD22_USDMT', 'source': 'hartree', 'stamp': '2021-07-16', 'definition': {'type': 'Outright', 'timing_factor': 1, 'marks': [14.891, 15.558, 17.639, 19.351, 20.647, 22.36], 'contracts': ['202107', '202108', '202109', '202110', '202111', '202112']}}\n",
      "http://localhost:8080/settles/api/v1/getEtrmCurveEval/TD25_USDMT/2021-07-15?eval_type=Outright\n",
      "{'symbol': 'TD25_USDMT', 'source': 'hartree', 'stamp': '2021-07-16', 'definition': {'type': 'Outright', 'timing_factor': 1, 'marks': [12.083, 12.595, 13.02, 14.254, 15.105, 16.595], 'contracts': ['202107', '202108', '202109', '202110', '202111', '202112']}}\n"
     ],
     "output_type": "stream"
    }
   ],
   "source": [
    "curves_list = [\n",
    "'TC2_USDMT',\n",
    "'TC5_USDMT',\n",
    "'TC6_USDMT',\n",
    "'TC12_USDMT',\n",
    "'TC14_USDMT',\n",
    "'TD3_USDMT',\n",
    "'TD7_USDMT',\n",
    "'TD20_USDMT',\n",
    "'TD22_USDMT',\n",
    "'TD25_USDMT'\n",
    "]\n",
    "\n",
    "settle_date = '2021-07-15'\n",
    "tc_date = '2021-07-16'\n",
    "for curve in curves_list:\n",
    "    url = f\"{settles_base_url}getEtrmCurveEval/{curve}/{settle_date}?eval_type=Outright\"\n",
    "    print(url)\n",
    "    results = requests.get(url).json()\n",
    "    settles_df = pd.DataFrame(data=results)\n",
    "    \n",
    "    definition = {\"type\":\"Outright\", \"timing_factor\":1}\n",
    "    live_curve = {\"symbol\":curve,\n",
    "                  \"source\":\"hartree\",\n",
    "                  \"stamp\":tc_date,\n",
    "                  \"definition\" : definition}\n",
    "    definition[\"marks\"] = list(settles_df[\"static\"])\n",
    "    definition[\"contracts\"] = list(settles_df[\"contract\"])\n",
    "    print(live_curve)\n",
    "    \n",
    "    tc_url = f\"{tc_base_url}setTraderCurve/\"\n",
    "    result = requests.post(tc_url, data=json.dumps(live_curve))\n",
    "    if result.status_code != 200:\n",
    "        print('Error',result.content)"
   ],
   "metadata": {
    "collapsed": false,
    "pycharm": {
     "name": "#%%\n",
     "is_executing": false
    }
   }
  }
 ],
 "metadata": {
  "kernelspec": {
   "display_name": "Python 3",
   "language": "python",
   "name": "python3"
  },
  "language_info": {
   "codemirror_mode": {
    "name": "ipython",
    "version": 2
   },
   "file_extension": ".py",
   "mimetype": "text/x-python",
   "name": "python",
   "nbconvert_exporter": "python",
   "pygments_lexer": "ipython2",
   "version": "2.7.6"
  },
  "pycharm": {
   "stem_cell": {
    "cell_type": "raw",
    "source": [],
    "metadata": {
     "collapsed": false
    }
   }
  }
 },
 "nbformat": 4,
 "nbformat_minor": 0
}