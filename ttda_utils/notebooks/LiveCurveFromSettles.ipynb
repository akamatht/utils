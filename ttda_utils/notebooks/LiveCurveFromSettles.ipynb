{
 "cells": [
  {
   "cell_type": "code",
   "execution_count": 1,
   "outputs": [],
   "source": [
    "import requests\n",
    "import os\n",
    "import pandas as pd\n",
    "import json"
   ],
   "metadata": {
    "collapsed": false,
    "pycharm": {
     "name": "#%%\n",
     "is_executing": false
    }
   }
  },
  {
   "cell_type": "code",
   "execution_count": 2,
   "outputs": [],
   "source": [
    "DEV = False\n",
    "\n",
    "if_dev = '.dev' if DEV else ''\n",
    "\n",
    "\n",
    "settles_base_url = f'http://settles-api{if_dev}.mosaic.hartreepartners.com/settles/api/v1/'\n",
    "tc_base_url = f'http://trader-curves-api{if_dev}.mosaic.hartreepartners.com/trader-curves/api/v1/'\n",
    "# settles_base_url = f'http://localhost:8080/settles/api/v1/'"
   ],
   "metadata": {
    "collapsed": false,
    "pycharm": {
     "name": "#%%\n",
     "is_executing": false
    }
   }
  },
  {
   "cell_type": "code",
   "execution_count": 4,
   "outputs": [
    {
     "name": "stdout",
     "text": [
      "http://settles-api.mosaic.hartreepartners.com/settles/api/v1/getEtrmCurveEval/RVO_22/2021-07-20?eval_type=Outright\n",
      "{'symbol': 'RVO_22', 'source': 'hartree', 'stamp': '2021-07-21', 'definition': {'type': 'Outright', 'timing_factor': 1, 'marks': [0.178046, 0.178046], 'contracts': ['202103', '202203']}}\n"
     ],
     "output_type": "stream"
    }
   ],
   "source": [
    "curves_list = [\n",
    "    # 'ETH_RINS_21',\n",
    "    # 'ETH_RINS_22',\n",
    "    # 'BIO_RINS_21',\n",
    "    # 'BIO_RINS_22',\n",
    "    # 'RVO_21',\n",
    "    'RVO_22'\n",
    "]\n",
    "\n",
    "settle_date = '2021-07-20'\n",
    "tc_date = '2021-07-21'\n",
    "for curve in curves_list:\n",
    "    url = f\"{settles_base_url}getEtrmCurveEval/{curve}/{settle_date}?eval_type=Outright\"\n",
    "    print(url)\n",
    "    results = requests.get(url).json()\n",
    "    settles_df = pd.DataFrame(data=results)\n",
    "    \n",
    "    definition = {\"type\":\"Outright\", \"timing_factor\":1}\n",
    "    live_curve = {\"symbol\":curve,\n",
    "                  \"source\":\"hartree\",\n",
    "                  \"stamp\":tc_date,\n",
    "                  \"definition\" : definition}\n",
    "    definition[\"marks\"] = list(settles_df[\"static\"])\n",
    "    definition[\"contracts\"] = list(settles_df[\"contract\"])\n",
    "    print(live_curve)\n",
    "    \n",
    "    tc_url = f\"{tc_base_url}setTraderCurve/\"\n",
    "    result = requests.post(tc_url, data=json.dumps(live_curve))\n",
    "    if result.status_code != 200:\n",
    "        print('Error',result.content)"
   ],
   "metadata": {
    "collapsed": false,
    "pycharm": {
     "name": "#%%\n",
     "is_executing": false
    }
   }
  }
 ],
 "metadata": {
  "kernelspec": {
   "display_name": "Python 3",
   "language": "python",
   "name": "python3"
  },
  "language_info": {
   "codemirror_mode": {
    "name": "ipython",
    "version": 2
   },
   "file_extension": ".py",
   "mimetype": "text/x-python",
   "name": "python",
   "nbconvert_exporter": "python",
   "pygments_lexer": "ipython2",
   "version": "2.7.6"
  },
  "pycharm": {
   "stem_cell": {
    "cell_type": "raw",
    "source": [],
    "metadata": {
     "collapsed": false
    }
   }
  }
 },
 "nbformat": 4,
 "nbformat_minor": 0
}