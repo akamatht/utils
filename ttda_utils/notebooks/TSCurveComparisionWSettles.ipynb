{
 "cells": [
  {
   "cell_type": "code",
   "execution_count": 18,
   "metadata": {
    "collapsed": true,
    "pycharm": {
     "is_executing": false
    }
   },
   "outputs": [],
   "source": [
    "import pandas as pd\n",
    "from mosaic_sql.postgres import get_engine as get_postgres_engine"
   ]
  },
  {
   "cell_type": "code",
   "execution_count": 19,
   "outputs": [],
   "source": [
    "postgres_engine = get_postgres_engine('ttda.postgres.storage.dev.mosaic.hartreepartners.com',\n",
    "                                      '5437','postgres','p0stgresisforttda','postgres')\n",
    "\n",
    "postgres_prod_engine = get_postgres_engine('ttda.postgres.storage.mosaic.hartreepartners.com',\n",
    "                                      '5437','postgres','p0stgrespr0d4ttda','postgres')"
   ],
   "metadata": {
    "collapsed": false,
    "pycharm": {
     "name": "#%%\n",
     "is_executing": false
    }
   }
  },
  {
   "cell_type": "code",
   "execution_count": 26,
   "outputs": [],
   "source": [
    "df_dev = pd.read_sql(\"select * from settles.trader_curves where symbol like '%-TS' and date='2021-06-15'\", con=postgres_engine)\n",
    "df_prod = pd.read_sql(\"select * from settles.trader_curves where symbol like '%-TS' and date='2021-06-15'\", con=postgres_prod_engine)\n"
   ],
   "metadata": {
    "collapsed": false,
    "pycharm": {
     "name": "#%%\n",
     "is_executing": false
    }
   }
  },
  {
   "cell_type": "code",
   "execution_count": 27,
   "outputs": [],
   "source": [
    "def split_dict(row):\n",
    "    # defn = json.loads(row['definition'])\n",
    "    defn = row['definition']\n",
    "    row['timing_factor'] = defn['timing_factor']\n",
    "    row['anchor_contract'] = defn['anchor_contract']\n",
    "    row['anchor_spread'] = defn['anchor_spread']\n",
    "    row['marks'] = defn['marks']\n",
    "    row['contracts'] = defn['contracts']\n",
    "    return row\n",
    "    \n"
   ],
   "metadata": {
    "collapsed": false,
    "pycharm": {
     "name": "#%%\n",
     "is_executing": false
    }
   }
  },
  {
   "cell_type": "code",
   "execution_count": 28,
   "outputs": [],
   "source": [
    "df_dev_n = df_dev.apply(split_dict, axis=1)\n",
    "df_prod_n = df_prod.apply(split_dict, axis=1)"
   ],
   "metadata": {
    "collapsed": false,
    "pycharm": {
     "name": "#%%\n",
     "is_executing": false
    }
   }
  },
  {
   "cell_type": "code",
   "execution_count": 31,
   "outputs": [],
   "source": [
    "df = df_prod_n.drop(columns='definition')\n",
    "# df_dev_n.to_csv(r'c:\\temp\\dev_ts.csv', index=False)\n",
    "df.to_csv(r'c:\\temp\\prod_ts.csv', index=False)"
   ],
   "metadata": {
    "collapsed": false,
    "pycharm": {
     "name": "#%%\n",
     "is_executing": false
    }
   }
  },
  {
   "cell_type": "code",
   "execution_count": 30,
   "outputs": [],
   "source": [],
   "metadata": {
    "collapsed": false,
    "pycharm": {
     "name": "#%%\n",
     "is_executing": false
    }
   }
  },
  {
   "cell_type": "code",
   "execution_count": 17,
   "outputs": [],
   "source": [
    "df = df.explode('contracts')\n"
   ],
   "metadata": {
    "collapsed": false,
    "pycharm": {
     "name": "#%%\n",
     "is_executing": false
    }
   }
  }
 ],
 "metadata": {
  "kernelspec": {
   "display_name": "Python 3",
   "language": "python",
   "name": "python3"
  },
  "language_info": {
   "codemirror_mode": {
    "name": "ipython",
    "version": 2
   },
   "file_extension": ".py",
   "mimetype": "text/x-python",
   "name": "python",
   "nbconvert_exporter": "python",
   "pygments_lexer": "ipython2",
   "version": "2.7.6"
  },
  "pycharm": {
   "stem_cell": {
    "cell_type": "raw",
    "source": [],
    "metadata": {
     "collapsed": false
    }
   }
  }
 },
 "nbformat": 4,
 "nbformat_minor": 0
}