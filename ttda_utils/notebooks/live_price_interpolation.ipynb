{
 "cells": [
  {
   "cell_type": "code",
   "execution_count": 1,
   "metadata": {
    "collapsed": true,
    "pycharm": {
     "is_executing": false
    }
   },
   "outputs": [],
   "source": [
    "import datetime\n",
    "import requests\n",
    "import pandas as pd\n",
    "import matplotlib.pyplot as plt\n",
    "from scipy import interpolate\n",
    "import numpy as np"
   ]
  },
  {
   "cell_type": "code",
   "execution_count": 107,
   "outputs": [],
   "source": [
    "def get_settles_df(symbol:str, date:str) -> pd.DataFrame:\n",
    "    url = f\"http://settles-api.mosaic.hartreepartners.com/settles/api/v1/getFutureCurveSettlement/{symbol}/CME/{date}?allow_indicative=true\"\n",
    "    data = requests.get(url)\n",
    "    df = pd.DataFrame(data=data.json())\n",
    "    return df[['instrument_key','expiration_date','value']].reset_index(drop=True)"
   ],
   "metadata": {
    "collapsed": false,
    "pycharm": {
     "name": "#%%\n",
     "is_executing": false
    }
   }
  },
  {
   "cell_type": "code",
   "execution_count": 108,
   "outputs": [],
   "source": [
    "settles_t_1 = get_settles_df(\"RB\", \"2021-09-24\")\n",
    "settles_t_2 = get_settles_df(\"RB\", \"2021-09-23\")\n",
    "live = pd.read_csv('../data/RB_live_prices_20210927.csv')"
   ],
   "metadata": {
    "collapsed": false,
    "pycharm": {
     "name": "#%%\n",
     "is_executing": false
    }
   }
  },
  {
   "cell_type": "code",
   "execution_count": 109,
   "outputs": [],
   "source": [
    "# transform\n",
    "settles_t_1.rename(columns={'value':'t-1'}, inplace=True)\n",
    "settles_t_2.rename(columns={'value':'t-2'}, inplace=True)\n",
    "live['live_price'] = (live['bid'] + live['ask'])/2\n",
    "live.rename(columns={'instr':'instrument_key'}, inplace=True)\n",
    "settles = pd.merge(settles_t_1, settles_t_2, how=\"inner\", on=[\"instrument_key\",\"expiration_date\"])"
   ],
   "metadata": {
    "collapsed": false,
    "pycharm": {
     "name": "#%%\n",
     "is_executing": false
    }
   }
  },
  {
   "cell_type": "code",
   "execution_count": 110,
   "outputs": [],
   "source": [
    "live_futures = live[~live['instrument_key'].str.contains('-')].reset_index(drop=True).copy()\n",
    "settles_futures = settles.copy()\n"
   ],
   "metadata": {
    "collapsed": false,
    "pycharm": {
     "name": "#%%\n",
     "is_executing": false
    }
   }
  },
  {
   "cell_type": "code",
   "execution_count": 111,
   "outputs": [],
   "source": [
    "df = pd.merge(settles_futures,live_futures,how=\"left\",on='instrument_key')\n",
    "df = df[['instrument_key','expiration_date','t-1','t-2','live_price']].copy()\n",
    "df[['symbol','contract']] = df['instrument_key'].str.split(expand=True)"
   ],
   "metadata": {
    "collapsed": false,
    "pycharm": {
     "name": "#%%\n",
     "is_executing": false
    }
   }
  },
  {
   "cell_type": "code",
   "execution_count": 112,
   "outputs": [],
   "source": [
    "df = df.where(pd.notna(df),None).copy()\n",
    "df.sort_values(by='instrument_key', inplace=True)"
   ],
   "metadata": {
    "collapsed": false,
    "pycharm": {
     "name": "#%%\n",
     "is_executing": false
    }
   }
  },
  {
   "cell_type": "code",
   "execution_count": 113,
   "outputs": [],
   "source": [
    "df['settles_price'] = df.apply(lambda row: None if row['live_price'] is None else row['t-1'], axis=1)\n",
    "df['missing'] = df['live_price'].apply(lambda x:True if x is None else False)\n",
    "df = df.where(pd.notna(df),None)\n",
    "df = df.reset_index()"
   ],
   "metadata": {
    "collapsed": false,
    "pycharm": {
     "name": "#%%\n",
     "is_executing": false
    }
   }
  },
  {
   "cell_type": "code",
   "execution_count": 115,
   "outputs": [],
   "source": [
    "# df['settles_shifted'] = df['settles_price'].shift(-1, fill_value=None)\n",
    "df = df.where(pd.notna(df),None)\n",
    "def calc_diff(row):\n",
    "    if (row['settles_price'] is None) or (row['t-2'] is None):\n",
    "        row['diff'] = None\n",
    "    else:\n",
    "        row['diff'] = row['settles_price'] - row['t-2']\n",
    "    \n",
    "    return row\n",
    "\n",
    "df = df.apply(calc_diff, axis=1)\n",
    "df = df.where(pd.notna(df),None)"
   ],
   "metadata": {
    "collapsed": false,
    "pycharm": {
     "name": "#%%\n",
     "is_executing": false
    }
   }
  },
  {
   "cell_type": "code",
   "execution_count": null,
   "outputs": [],
   "source": [],
   "metadata": {
    "collapsed": false,
    "pycharm": {
     "name": "#%%\n"
    }
   }
  },
  {
   "cell_type": "code",
   "execution_count": null,
   "outputs": [],
   "source": [
    "fig = df[['contract','settles_price','t-1','t-2']].plot(x='contract').get_figure()\n",
    "fig.savefig(r'c:\\temp\\linear_models.pdf')"
   ],
   "metadata": {
    "collapsed": false,
    "pycharm": {
     "name": "#%%\n"
    }
   }
  },
  {
   "cell_type": "code",
   "execution_count": 116,
   "outputs": [],
   "source": [
    "\n",
    "\n",
    "\n",
    "# using scipy interpolation\n",
    "\n",
    "df['expiration_date'] = pd.to_datetime(df['expiration_date'])\n",
    "df['days_to_expiry'] = df['expiration_date'].apply(lambda x: (x - datetime.datetime.today()).days)"
   ],
   "metadata": {
    "collapsed": false,
    "pycharm": {
     "name": "#%%\n",
     "is_executing": false
    }
   }
  },
  {
   "cell_type": "code",
   "execution_count": 44,
   "outputs": [],
   "source": [
    "# df_sub = df[['days_to_expiry','settles_price']].dropna()\n",
    "# # Interpoalte only. Extrapolation is disabled by bounds_error=False and fill_value=None \n",
    "# f=interpolate.interp1d(df_sub['days_to_expiry'],df_sub['settles_price'], \n",
    "#                        fill_value=None, bounds_error=False, kind='linear')"
   ],
   "metadata": {
    "collapsed": false,
    "pycharm": {
     "name": "#%%\n",
     "is_executing": false
    }
   }
  },
  {
   "cell_type": "code",
   "execution_count": 117,
   "outputs": [],
   "source": [
    "df_diffs = df[['days_to_expiry','diff']].dropna()\n",
    "f_diff = interpolate.interp1d(df_diffs['days_to_expiry'], df_diffs['diff'], fill_value=None, bounds_error=False)\n",
    "df = df.where(pd.notna(df),None).copy()\n",
    "df['predicted_diff'] = df['days_to_expiry'].apply(f_diff)\n",
    "df = df.where(pd.notna(df),None)\n"
   ],
   "metadata": {
    "collapsed": false,
    "pycharm": {
     "name": "#%%\n",
     "is_executing": false
    }
   }
  },
  {
   "cell_type": "code",
   "execution_count": 84,
   "outputs": [],
   "source": [
    "# interpolate \n",
    "# df = df.where(pd.notna(df),None).copy()\n",
    "# df['price'] = df['days_to_expiry'].apply(f)\n",
    "# df = df.where(pd.notna(df),None)"
   ],
   "metadata": {
    "collapsed": false,
    "pycharm": {
     "name": "#%%\n",
     "is_executing": false
    }
   }
  },
  {
   "cell_type": "code",
   "execution_count": 118,
   "outputs": [
    {
     "name": "stdout",
     "text": [
      "    index instrument_key expiration_date     t-1     t-2 live_price symbol  \\\n",
      "26     26      RB 202312      2023-11-30  1.7647  1.7608    1.79315     RB   \n",
      "\n",
      "   contract settles_price  missing    diff  days_to_expiry predicted_diff  \n",
      "26   202312        1.7647    False  0.0039             786         0.0039  \n"
     ],
     "output_type": "stream"
    }
   ],
   "source": [
    "# calculate difference at last known point\n",
    "ldf = df[['contract','settles_price']].dropna()\n",
    "last_known_contract = ldf['contract'].max()\n",
    "last_known_contract_row = df[df['contract']==last_known_contract].head(1)\n",
    "print(last_known_contract_row)\n",
    "last_known_diff_s = last_known_contract_row['t-2'] - last_known_contract_row['t-1']\n",
    "last_known_diff = last_known_diff_s.iloc[0]"
   ],
   "metadata": {
    "collapsed": false,
    "pycharm": {
     "name": "#%%\n",
     "is_executing": false
    }
   }
  },
  {
   "cell_type": "code",
   "execution_count": 119,
   "outputs": [],
   "source": [
    "df = df.where(pd.notna(df),None).copy()\n",
    "# extrapolate\n",
    "def predict(row):\n",
    "    if row['contract'] > last_known_contract:\n",
    "        row['predicted'] = row['t-1'] + last_known_diff\n",
    "    elif (row['contract'] <= last_known_contract) and (row['settles_price'] is None):\n",
    "        row['predicted'] = row['t-2']  + row['predicted_diff']\n",
    "    else:\n",
    "        row['predicted'] = row['settles_price']\n",
    "    \n",
    "    return row\n",
    "df = df.apply(predict, axis=1)"
   ],
   "metadata": {
    "collapsed": false,
    "pycharm": {
     "name": "#%%\n",
     "is_executing": false
    }
   }
  },
  {
   "cell_type": "code",
   "execution_count": 120,
   "outputs": [
    {
     "data": {
      "text/plain": "<Figure size 432x288 with 1 Axes>",
      "image/png": "[encoded data removed]"
     },
     "metadata": {
      "needs_background": "light"
     },
     "output_type": "display_data"
    }
   ],
   "source": [
    "fig = df[['contract','settles_price','t-1','predicted']].plot(x='contract').get_figure()\n",
    "fig.savefig(r'c:\\temp\\linear_models.pdf')"
   ],
   "metadata": {
    "collapsed": false,
    "pycharm": {
     "name": "#%%\n",
     "is_executing": false
    }
   }
  },
  {
   "cell_type": "code",
   "execution_count": null,
   "outputs": [],
   "source": [],
   "metadata": {
    "collapsed": false,
    "pycharm": {
     "name": "#%%\n"
    }
   }
  },
  {
   "cell_type": "code",
   "execution_count": 121,
   "outputs": [
    {
     "data": {
      "text/plain": "<Figure size 2520x360 with 1 Axes>",
      "image/png": "[encoded data removed]"
     },
     "metadata": {
      "needs_background": "light"
     },
     "output_type": "display_data"
    }
   ],
   "source": [
    "fig, ax = plt.subplots(figsize=(35, 5), )\n",
    "\n",
    "\n",
    "ax.plot(df['contract'], df['predicted'], '-gx', markevery=list(df['missing']) , label='t-1')\n",
    "ax.plot(df['contract'], df['t-1'], label='t-1')\n",
    "# ax.plot(df['contract'], df['live_price'], label='live_price')\n",
    "# ax.plot(df_n['contract'], df['t-2'], label='t-2')\n",
    "fig.savefig(r'c:\\temp\\linear_models_v6.pdf')\n"
   ],
   "metadata": {
    "collapsed": false,
    "pycharm": {
     "name": "#%%\n",
     "is_executing": false
    }
   }
  }
 ],
 "metadata": {
  "kernelspec": {
   "display_name": "Python 3",
   "language": "python",
   "name": "python3"
  },
  "language_info": {
   "codemirror_mode": {
    "name": "ipython",
    "version": 2
   },
   "file_extension": ".py",
   "mimetype": "text/x-python",
   "name": "python",
   "nbconvert_exporter": "python",
   "pygments_lexer": "ipython2",
   "version": "2.7.6"
  },
  "pycharm": {
   "stem_cell": {
    "cell_type": "raw",
    "source": [],
    "metadata": {
     "collapsed": false
    }
   }
  }
 },
 "nbformat": 4,
 "nbformat_minor": 0
}