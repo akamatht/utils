{
 "cells": [
  {
   "cell_type": "code",
   "execution_count": 14,
   "outputs": [],
   "source": [
    "import pandas as pd\n",
    "from mosaic_sql.crate import get_engine, EngineInstance\n",
    "from sqlalchemy.orm import sessionmaker\n",
    "from mosaic_sql.postgres import get_engine as get_postgres_engine"
   ],
   "metadata": {
    "collapsed": false,
    "pycharm": {
     "name": "#%%\n",
     "is_executing": false
    }
   }
  },
  {
   "cell_type": "code",
   "execution_count": 3,
   "metadata": {
    "collapsed": true,
    "pycharm": {
     "is_executing": false
    }
   },
   "outputs": [
    {
     "name": "stdout",
     "text": [
      "env: CRATE_HOST=ttda.cratedb-dev-cluster.mosaic.hartreepartners.com:4200\n"
     ],
     "output_type": "stream"
    }
   ],
   "source": [
    "%env CRATE_HOST ttda.cratedb-dev-cluster.mosaic.hartreepartners.com:4200\n",
    "engine = get_engine(EngineInstance.TTDA)\n",
    "session_mkr = sessionmaker(\n",
    "    bind=engine, autoflush=False, expire_on_commit=False\n",
    ")\n",
    "session = session_mkr()\n"
   ]
  },
  {
   "cell_type": "code",
   "execution_count": 13,
   "outputs": [],
   "source": [
    "df = pd.read_sql(\"select * from settles.trader_curves\", con=engine)\n"
   ],
   "metadata": {
    "collapsed": false,
    "pycharm": {
     "name": "#%%\n",
     "is_executing": false
    }
   }
  },
  {
   "cell_type": "code",
   "execution_count": 15,
   "outputs": [],
   "source": [
    "# postgres_engine = get_postgres_engine('localhost','5432','postgres','docker','postgres')\n",
    "postgres_engine = get_postgres_engine('ttda.postgres.storage.dev.mosaic.hartreepartners.com',\n",
    "                                      '5437','postgres','p0stgresisforttda','postgres')\n",
    "\n",
    "postgres_prod_engine = get_postgres_engine('ttda.postgres.storage.mosaic.hartreepartners.com',\n",
    "                                      '5437','postgres','p0stgrespr0d4ttda','postgres')"
   ],
   "metadata": {
    "collapsed": false,
    "pycharm": {
     "name": "#%%\n",
     "is_executing": false
    }
   }
  },
  {
   "cell_type": "code",
   "execution_count": 19,
   "outputs": [],
   "source": [
    "df_dev = pd.read_sql(\"select * from settles.trader_curves\", con=postgres_engine)\n",
    "df_prod = pd.read_sql(\"select * from settles.trader_curves where date>'2021-06-01'\", con=postgres_prod_engine)"
   ],
   "metadata": {
    "collapsed": false,
    "pycharm": {
     "name": "#%%\n",
     "is_executing": false
    }
   }
  },
  {
   "cell_type": "code",
   "execution_count": 20,
   "outputs": [],
   "source": [
    "import json\n",
    "df_dev['definition'] = df_dev['definition'].apply(lambda x: json.dumps(x))\n",
    "df_prod['definition'] = df_prod['definition'].apply(lambda x: json.dumps(x))"
   ],
   "metadata": {
    "collapsed": false,
    "pycharm": {
     "name": "#%%\n",
     "is_executing": false
    }
   }
  },
  {
   "cell_type": "code",
   "execution_count": 8,
   "outputs": [],
   "source": [
    "# df_dev.to_sql(\"trader_curves\",schema=\"settles\", index=False, con=postgres_prod_engine, if_exists='append')"
   ],
   "metadata": {
    "collapsed": false,
    "pycharm": {
     "name": "#%%\n",
     "is_executing": false
    }
   }
  },
  {
   "cell_type": "code",
   "execution_count": 15,
   "outputs": [],
   "source": [
    "# df['date'] = df['stamp']\n",
    "# df.drop(columns='stamp', inplace=True)\n",
    "import json\n",
    "df['definition'] = df['definition'].apply(lambda x: json.dumps(x))"
   ],
   "metadata": {
    "collapsed": false,
    "pycharm": {
     "name": "#%%\n",
     "is_executing": false
    }
   }
  },
  {
   "cell_type": "code",
   "execution_count": 16,
   "outputs": [],
   "source": [
    "df.to_sql('trader_curves', schema='settles', con=postgres_engine, index=False, if_exists='append')\n",
    "\n",
    "\n"
   ],
   "metadata": {
    "collapsed": false,
    "pycharm": {
     "name": "#%%\n",
     "is_executing": false
    }
   }
  },
  {
   "cell_type": "code",
   "execution_count": 17,
   "outputs": [
    {
     "name": "stdout",
     "text": [
      "   symbol        date      source  \\\n",
      "0  NAP-TS  2021-01-25  arotenberg   \n",
      "1  NAP-TS  2021-01-25     hartree   \n",
      "2    RB-F  2021-01-25     hartree   \n",
      "3     NAP  2021-01-25  arotenberg   \n",
      "4   DATED  2021-01-25     hartree   \n",
      "\n",
      "                                          definition  epoch_time  \n",
      "0  {'type': 'TimeSpread', 'marks': [5.0, 6.0, 5.7...  1611599600  \n",
      "1  {'type': 'TimeSpread', 'marks': [5.0, 6.0, 5.7...  1611656571  \n",
      "2  {'type': 'Dynamic', 'contracts': ['202101', '2...  1611599764  \n",
      "3  {'refs': [{'factor': 8.9, 'symbol': 'BRT-S', '...  1611590261  \n",
      "4  {'refs': [{'factor': 1.0, 'symbol': 'BRT-S'}, ...  1611599766  \n"
     ],
     "output_type": "stream"
    }
   ],
   "source": [
    "rdf = pd.read_sql(\"select * from settles.trader_curves\", con=postgres_engine)\n",
    "print(rdf.head())"
   ],
   "metadata": {
    "collapsed": false,
    "pycharm": {
     "name": "#%%\n",
     "is_executing": false
    }
   }
  },
  {
   "cell_type": "code",
   "execution_count": 10,
   "outputs": [],
   "source": [
    "row = rdf.loc[0,'definition']"
   ],
   "metadata": {
    "collapsed": false,
    "pycharm": {
     "name": "#%%\n",
     "is_executing": false
    }
   }
  },
  {
   "cell_type": "code",
   "execution_count": 23,
   "outputs": [],
   "source": [
    "# Copy prod data to dev db\n",
    "df_prod.to_sql('trader_curves',  schema='settles', con=postgres_engine,  index=False, if_exists='append')"
   ],
   "metadata": {
    "collapsed": false,
    "pycharm": {
     "name": "#%%\n",
     "is_executing": false
    }
   }
  }
 ],
 "metadata": {
  "kernelspec": {
   "display_name": "Python 3",
   "language": "python",
   "name": "python3"
  },
  "language_info": {
   "codemirror_mode": {
    "name": "ipython",
    "version": 2
   },
   "file_extension": ".py",
   "mimetype": "text/x-python",
   "name": "python",
   "nbconvert_exporter": "python",
   "pygments_lexer": "ipython2",
   "version": "2.7.6"
  },
  "pycharm": {
   "stem_cell": {
    "cell_type": "raw",
    "source": [],
    "metadata": {
     "collapsed": false
    }
   }
  }
 },
 "nbformat": 4,
 "nbformat_minor": 0
}