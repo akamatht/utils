{
 "cells": [
  {
   "cell_type": "code",
   "execution_count": 1,
   "outputs": [],
   "source": [
    "import pandas as pd\n",
    "from mosaic_sql.crate import get_engine, EngineInstance\n",
    "from sqlalchemy.orm import sessionmaker"
   ],
   "metadata": {
    "collapsed": false,
    "pycharm": {
     "name": "#%%\n",
     "is_executing": false
    }
   }
  },
  {
   "cell_type": "code",
   "execution_count": 2,
   "metadata": {
    "collapsed": true,
    "pycharm": {
     "is_executing": false
    }
   },
   "outputs": [
    {
     "name": "stdout",
     "text": [
      "env: CRATE_HOST=ttda.cratedb-dev-cluster.mosaic.hartreepartners.com:4200\n"
     ],
     "output_type": "stream"
    }
   ],
   "source": [
    "%env CRATE_HOST ttda.cratedb-dev-cluster.mosaic.hartreepartners.com:4200\n",
    "engine = get_engine(EngineInstance.TTDA)\n",
    "session_mkr = sessionmaker(\n",
    "    bind=engine, autoflush=False, expire_on_commit=False\n",
    ")\n",
    "session = session_mkr()\n"
   ]
  },
  {
   "cell_type": "code",
   "execution_count": 3,
   "outputs": [],
   "source": [
    "df = pd.read_sql(\"select * from settles.trader_curves\", con=engine)"
   ],
   "metadata": {
    "collapsed": false,
    "pycharm": {
     "name": "#%%\n",
     "is_executing": false
    }
   }
  },
  {
   "cell_type": "code",
   "execution_count": 7,
   "outputs": [],
   "source": [
    "df['date'] = df['stamp']\n",
    "df.drop(columns='stamp', inplace=True)\n",
    "df.to_sql('trader_curves_test', schema='settles', con=engine, index=False, if_exists='append')\n"
   ],
   "metadata": {
    "collapsed": false,
    "pycharm": {
     "name": "#%%\n",
     "is_executing": false
    }
   }
  }
 ],
 "metadata": {
  "kernelspec": {
   "display_name": "Python 3",
   "language": "python",
   "name": "python3"
  },
  "language_info": {
   "codemirror_mode": {
    "name": "ipython",
    "version": 2
   },
   "file_extension": ".py",
   "mimetype": "text/x-python",
   "name": "python",
   "nbconvert_exporter": "python",
   "pygments_lexer": "ipython2",
   "version": "2.7.6"
  },
  "pycharm": {
   "stem_cell": {
    "cell_type": "raw",
    "source": [],
    "metadata": {
     "collapsed": false
    }
   }
  }
 },
 "nbformat": 4,
 "nbformat_minor": 0
}