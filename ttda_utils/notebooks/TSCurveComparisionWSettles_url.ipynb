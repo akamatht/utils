{
 "cells": [
  {
   "cell_type": "code",
   "execution_count": 1,
   "outputs": [],
   "source": [
    "import requests\n",
    "import os"
   ],
   "metadata": {
    "collapsed": false,
    "pycharm": {
     "name": "#%%\n",
     "is_executing": false
    }
   }
  },
  {
   "cell_type": "code",
   "execution_count": 2,
   "outputs": [],
   "source": [
    "DEV = False\n",
    "\n",
    "if_dev = '.dev' if DEV else ''\n",
    "\n",
    "\n",
    "settles_base_url = f'http://settles-api{if_dev}.mosaic.hartreepartners.com/settles/api/v1/'\n",
    "tc_base_url = f'http://trader-curves-api{if_dev}.mosaic.hartreepartners.com/trader-curves/api/v1/'\n"
   ],
   "metadata": {
    "collapsed": false,
    "pycharm": {
     "name": "#%%\n",
     "is_executing": false
    }
   }
  },
  {
   "cell_type": "code",
   "execution_count": 3,
   "metadata": {
    "collapsed": true,
    "pycharm": {
     "is_executing": false,
     "name": "#%%\n"
    }
   },
   "outputs": [],
   "source": [
    "\n",
    "import pandas as pd\n",
    "from mosaic_sql.postgres import get_engine as get_postgres_engine"
   ]
  },
  {
   "cell_type": "code",
   "execution_count": 4,
   "outputs": [],
   "source": [
    "# postgres_engine = get_postgres_engine('ttda.postgres.storage.dev.mosaic.hartreepartners.com',\n",
    "#                                       '5437','postgres','p0stgresisforttda','postgres')\n",
    "\n",
    "postgres_prod_engine = get_postgres_engine('ttda.postgres.storage.mosaic.hartreepartners.com',\n",
    "                                      '5437','postgres','p0stgrespr0d4ttda','postgres')"
   ],
   "metadata": {
    "collapsed": false,
    "pycharm": {
     "name": "#%%\n",
     "is_executing": false
    }
   }
  },
  {
   "cell_type": "code",
   "execution_count": 27,
   "outputs": [],
   "source": [
    "# df_dev = pd.read_sql(\"select * from settles.trader_curves where symbol like '%-TS' and date='2021-06-15'\", con=postgres_engine)\n",
    "df_prod = pd.read_sql(\"select * from settles.trader_curves where symbol like '%-TS' and date='2021-06-15'\", con=postgres_prod_engine)\n",
    "final_df = None\n",
    "for idx,r in df_prod.iterrows():\n",
    "    source = r['source']\n",
    "    symbol=r['symbol']\n",
    "    sql = f\"\"\"\n",
    "    select concat(symbol,'#',source) symbol,date,epoch_time,definition->>'anchor_spread' as anchor_spread\n",
    "    ,jsonb_array_elements_text(tc.definition->'contracts') as contracts ,\n",
    "    jsonb_array_elements_text(tc.definition->'marks') as marks \n",
    "    from settles.trader_curves tc\n",
    "    where symbol like '{symbol}' \n",
    "    and source like '{source}'\n",
    "    and date='2021-06-15'  order by symbol,source,date desc\n",
    "    \"\"\"\n",
    "    df = pd.read_sql(sql, con=postgres_prod_engine)\n",
    "    df[f'{symbol}#{source}'] = df['marks']\n",
    "    df[f'anchor_spread#{symbol}#{source}'] = df['anchor_spread']\n",
    "    df.set_index('contracts',inplace=True)\n",
    "    df.drop(columns=['symbol','epoch_time','marks','date','anchor_spread'], inplace=True)\n",
    "    if final_df is None:\n",
    "        final_df = df\n",
    "    else:\n",
    "        final_df = final_df.merge(df, how=\"left\", left_index=True, right_index=True)\n",
    "    settle_date = '2021-06-14'\n",
    "    url = f\"{settles_base_url}getEtrmCurveEval/{r['symbol']}/{settle_date}?eval_type=TimeSpread\"\n",
    "    results = requests.get(url).json()\n",
    "    settles_df = pd.DataFrame(data=results)\n",
    "    settles_df.set_index('contract', inplace=True)\n",
    "    settles_df[f'{symbol}#settles'] = settles_df['static']\n",
    "    settles_df.drop(columns=['static','dynamic'], inplace=True)\n",
    "    final_df = final_df.merge(settles_df, how='left', left_index=True, right_index=True)"
   ],
   "metadata": {
    "collapsed": false,
    "pycharm": {
     "name": "#%%\n",
     "is_executing": false
    }
   }
  },
  {
   "cell_type": "code",
   "execution_count": 29,
   "outputs": [],
   "source": [
    "final_df_sorted = final_df.reindex(sorted(final_df.columns), axis=1)\n",
    "\n",
    "final_df_sorted.to_csv(r'c:\\temp\\ts_curves.csv')\n",
    "# for idx, r in df_prod.iterrows():\n",
    "#     \n",
    "#     print(url)\n",
    "#     results = requests.get(url).json()\n",
    "#     print(results)\n",
    "#     df = pd.DataFrame(results['curve'])\n",
    "#     df['symbol'] = r['symbol']\n",
    "#     df['updated_at'] = results['updated_at']\n",
    "#     print(df.head(5))\n",
    "#     \n"
   ],
   "metadata": {
    "collapsed": false,
    "pycharm": {
     "name": "#%%\n",
     "is_executing": false
    }
   }
  }
 ],
 "metadata": {
  "kernelspec": {
   "display_name": "Python 3",
   "language": "python",
   "name": "python3"
  },
  "language_info": {
   "codemirror_mode": {
    "name": "ipython",
    "version": 2
   },
   "file_extension": ".py",
   "mimetype": "text/x-python",
   "name": "python",
   "nbconvert_exporter": "python",
   "pygments_lexer": "ipython2",
   "version": "2.7.6"
  },
  "pycharm": {
   "stem_cell": {
    "cell_type": "raw",
    "source": [],
    "metadata": {
     "collapsed": false
    }
   }
  }
 },
 "nbformat": 4,
 "nbformat_minor": 0
}